{
  "nbformat": 4,
  "nbformat_minor": 0,
  "metadata": {
    "colab": {
      "provenance": []
    },
    "kernelspec": {
      "name": "python3",
      "display_name": "Python 3"
    },
    "language_info": {
      "name": "python"
    }
  },
  "cells": [
    {
      "cell_type": "code",
      "execution_count": 1,
      "metadata": {
        "colab": {
          "base_uri": "https://localhost:8080/"
        },
        "id": "dreD8-gkm1-o",
        "outputId": "4c66bff3-53e0-4c73-ad73-68c3f36ba11d"
      },
      "outputs": [
        {
          "output_type": "stream",
          "name": "stdout",
          "text": [
            "[10, 12, 25, 34, 43, 56, 60, 78, 80]\n"
          ]
        }
      ],
      "source": [
        "class Heap:\n",
        "  def __init__(self):\n",
        "    self.heap = []\n",
        "\n",
        "  def createHeap(self, list1):\n",
        "    for e in list1:\n",
        "      self.insert(e)\n",
        "\n",
        "  def insert(self, e):\n",
        "    index = len(self.heap)\n",
        "    parentIndex = (index - 1) // 2\n",
        "    while index > 0 and self.heap[parentIndex] < e:\n",
        "      if index == len(self.heap):\n",
        "        self.heap.append(self.heap[parentIndex])\n",
        "      else:\n",
        "        self.heap[index] = self.heap[parentIndex]\n",
        "      index = parentIndex\n",
        "      parentIndex = (index - 1)//2\n",
        "    if index == len(self.heap):\n",
        "      self.heap.append(e)\n",
        "    else:\n",
        "      self.heap[index] = e\n",
        "\n",
        "  def top(self):\n",
        "    if len(self.heap) == 0:\n",
        "      raise EmptyHeapException()\n",
        "    return self.heap[0]\n",
        "\n",
        "  def delete(self):\n",
        "    if len(self.heap) == 0:\n",
        "      raise EmptyHeapException()\n",
        "    if len(self.heap) == 1:\n",
        "      return self.heap.pop()\n",
        "    max_value = self.heap[0]\n",
        "    temp = self.heap.pop()\n",
        "    index = 0\n",
        "    leftChildIndex = 2 * index + 1\n",
        "    rightChildIndex = 2 * index + 2\n",
        "\n",
        "    while leftChildIndex < len(self.heap):\n",
        "      if rightChildIndex < len(self.heap):\n",
        "        if self.heap[leftChildIndex] > self.heap[rightChildIndex]:\n",
        "          if self.heap[leftChildIndex] > temp:\n",
        "            self.heap[index] = self.heap[leftChildIndex]\n",
        "            index = leftChildIndex\n",
        "          else:\n",
        "            break\n",
        "        else:\n",
        "          if self.heap[rightChildIndex] > temp:\n",
        "            self.heap[index] = self.heap[rightChildIndex]\n",
        "            index = rightChildIndex\n",
        "          else:\n",
        "            break\n",
        "      else: #No right child\n",
        "        if self.heap[leftChildIndex] > temp:\n",
        "          self.heap[index] = self.heap[leftChildIndex]\n",
        "          index = leftChildIndex\n",
        "        else:\n",
        "          break\n",
        "      leftChildIndex = 2 * index + 1\n",
        "      rightChildIndex = 2 * index + 2\n",
        "    self.heap[index] = temp\n",
        "    return max_value\n",
        "\n",
        "  def heapSort(self, list1):\n",
        "    self.createHeap(list1)\n",
        "    list2 = []\n",
        "    try:\n",
        "      while True:\n",
        "        list2.insert(0, self.delete())\n",
        "    except EmptyHeapException:\n",
        "      pass\n",
        "    return list2\n",
        "\n",
        "class EmptyHeapException(Exception):\n",
        "\n",
        "  def __init__(self, msg = \"Empty Heap\"):\n",
        "    self.msg = msg\n",
        "\n",
        "  def __str__(self):\n",
        "    return self.msg\n",
        "\n",
        "list1=[34, 56, 12, 78, 43, 25, 10, 80, 60]\n",
        "h=Heap()\n",
        "list1=h.heapSort(list1)\n",
        "print(list1)"
      ]
    },
    {
      "cell_type": "code",
      "source": [],
      "metadata": {
        "id": "zOCdOGH5vCyg"
      },
      "execution_count": null,
      "outputs": []
    }
  ]
}